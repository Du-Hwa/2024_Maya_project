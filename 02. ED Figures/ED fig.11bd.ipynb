{
 "cells": [
  {
   "cell_type": "code",
   "execution_count": 4,
   "id": "20218c97-df11-4cd7-8f25-852b437e548e",
   "metadata": {},
   "outputs": [
    {
     "name": "stdout",
     "output_type": "stream",
     "text": [
      "            Df Sum Sq Mean Sq F value Pr(>F)\n",
      "column       3 0.2276 0.07586   1.449  0.266\n",
      "Residuals   16 0.8375 0.05234               \n",
      "X01.flg22_500pM     X02.Maya1_1    X03.Maya1_10   X04.Maya1_100 \n",
      "            \"a\"             \"a\"             \"a\"             \"a\" \n",
      "\n",
      "\t Simultaneous Tests for General Linear Hypotheses\n",
      "\n",
      "Multiple Comparisons of Means: Tukey Contrasts\n",
      "\n",
      "\n",
      "Fit: aov(formula = value ~ column, data = graphdata_long)\n",
      "\n",
      "Linear Hypotheses:\n",
      "                                     Estimate Std. Error t value Pr(>|t|)\n",
      "X02.Maya1_1 - X01.flg22_500pM == 0    0.03601    0.14470   0.249    0.994\n",
      "X03.Maya1_10 - X01.flg22_500pM == 0   0.02386    0.14470   0.165    0.998\n",
      "X04.Maya1_100 - X01.flg22_500pM == 0  0.26448    0.14470   1.828    0.297\n",
      "X03.Maya1_10 - X02.Maya1_1 == 0      -0.01215    0.14470  -0.084    1.000\n",
      "X04.Maya1_100 - X02.Maya1_1 == 0      0.22847    0.14470   1.579    0.417\n",
      "X04.Maya1_100 - X03.Maya1_10 == 0     0.24062    0.14470   1.663    0.374\n",
      "(Adjusted p values reported -- single-step method)\n",
      "\n"
     ]
    }
   ],
   "source": [
    "##### Load packages #####\n",
    "library(tidyverse)\n",
    "library(multcomp)\n",
    "library(ggplot2)\n",
    "# Load CSV\n",
    "graphdata <- read.csv(\"ED fig.11b.csv\")\n",
    "\n",
    "# Reshape the data from wide to long format\n",
    "graphdata_long <- graphdata %>%\n",
    "  gather(column, value)\n",
    "\n",
    "graphdata_long <- na.omit(graphdata_long)\n",
    "graphdata_long$column <- factor(graphdata_long$column)\n",
    "\n",
    "# Extract unique values of \"column\" variable and preserve order\n",
    "x_order <- unique(graphdata_long$column)\n",
    "\n",
    "# Perform one-way ANOVA\n",
    "res.aov <- aov(value ~ column, data = graphdata_long)\n",
    "print(summary(res.aov))\n",
    "tukey_result <- glht(res.aov, linfct = mcp(column = \"Tukey\"))\n",
    "multcomps <- cld(tukey_result)\n",
    "print(multcomps)\n",
    "print(summary(tukey_result))\n"
   ]
  },
  {
   "cell_type": "code",
   "execution_count": 5,
   "id": "1d82caf8-d24e-45f7-ab8c-42e75d69b6cb",
   "metadata": {},
   "outputs": [
    {
     "name": "stdout",
     "output_type": "stream",
     "text": [
      "            Df Sum Sq Mean Sq F value Pr(>F)  \n",
      "column       3  1.199  0.3997   3.158 0.0536 .\n",
      "Residuals   16  2.025  0.1266                 \n",
      "---\n",
      "Signif. codes:  0 ‘***’ 0.001 ‘**’ 0.01 ‘*’ 0.05 ‘.’ 0.1 ‘ ’ 1\n",
      "X01.flg22_500pM     X02.Maya2_1    X03.Maya2_10   X04.Maya2_100 \n",
      "            \"a\"            \"ab\"            \"ab\"             \"b\" \n",
      "\n",
      "\t Simultaneous Tests for General Linear Hypotheses\n",
      "\n",
      "Multiple Comparisons of Means: Tukey Contrasts\n",
      "\n",
      "\n",
      "Fit: aov(formula = value ~ column, data = graphdata_long)\n",
      "\n",
      "Linear Hypotheses:\n",
      "                                     Estimate Std. Error t value Pr(>|t|)  \n",
      "X02.Maya2_1 - X01.flg22_500pM == 0    0.26907    0.22500   1.196   0.6381  \n",
      "X03.Maya2_10 - X01.flg22_500pM == 0   0.30823    0.22500   1.370   0.5348  \n",
      "X04.Maya2_100 - X01.flg22_500pM == 0  0.68709    0.22500   3.054   0.0345 *\n",
      "X03.Maya2_10 - X02.Maya2_1 == 0       0.03915    0.22500   0.174   0.9980  \n",
      "X04.Maya2_100 - X02.Maya2_1 == 0      0.41801    0.22500   1.858   0.2842  \n",
      "X04.Maya2_100 - X03.Maya2_10 == 0     0.37886    0.22500   1.684   0.3636  \n",
      "---\n",
      "Signif. codes:  0 ‘***’ 0.001 ‘**’ 0.01 ‘*’ 0.05 ‘.’ 0.1 ‘ ’ 1\n",
      "(Adjusted p values reported -- single-step method)\n",
      "\n"
     ]
    }
   ],
   "source": [
    "##### Load packages #####\n",
    "library(tidyverse)\n",
    "library(multcomp)\n",
    "library(ggplot2)\n",
    "# Load CSV\n",
    "graphdata <- read.csv(\"ED fig.11d.csv\")\n",
    "\n",
    "# Reshape the data from wide to long format\n",
    "graphdata_long <- graphdata %>%\n",
    "  gather(column, value)\n",
    "\n",
    "graphdata_long <- na.omit(graphdata_long)\n",
    "graphdata_long$column <- factor(graphdata_long$column)\n",
    "\n",
    "# Extract unique values of \"column\" variable and preserve order\n",
    "x_order <- unique(graphdata_long$column)\n",
    "\n",
    "# Perform one-way ANOVA\n",
    "res.aov <- aov(value ~ column, data = graphdata_long)\n",
    "print(summary(res.aov))\n",
    "tukey_result <- glht(res.aov, linfct = mcp(column = \"Tukey\"))\n",
    "multcomps <- cld(tukey_result)\n",
    "print(multcomps)\n",
    "print(summary(tukey_result))\n"
   ]
  }
 ],
 "metadata": {
  "kernelspec": {
   "display_name": "R",
   "language": "R",
   "name": "ir"
  },
  "language_info": {
   "codemirror_mode": "r",
   "file_extension": ".r",
   "mimetype": "text/x-r-source",
   "name": "R",
   "pygments_lexer": "r",
   "version": "4.4.1"
  }
 },
 "nbformat": 4,
 "nbformat_minor": 5
}
