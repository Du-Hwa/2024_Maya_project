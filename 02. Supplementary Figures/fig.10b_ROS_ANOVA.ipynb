{
 "cells": [
  {
   "cell_type": "code",
   "execution_count": 2,
   "id": "20218c97-df11-4cd7-8f25-852b437e548e",
   "metadata": {},
   "outputs": [
    {
     "name": "stdout",
     "output_type": "stream",
     "text": [
      "             Df    Sum Sq   Mean Sq F value Pr(>F)    \n",
      "column        4 3.613e+12 9.033e+11   372.6 <2e-16 ***\n",
      "Residuals   243 5.891e+11 2.424e+09                   \n",
      "---\n",
      "Signif. codes:  0 ‘***’ 0.001 ‘**’ 0.01 ‘*’ 0.05 ‘.’ 0.1 ‘ ’ 1\n",
      " DMSO Maya1 Maya2 flg20 flg22 \n",
      "  \"a\"   \"a\"   \"a\"   \"a\"   \"b\" \n",
      "\n",
      "\t Simultaneous Tests for General Linear Hypotheses\n",
      "\n",
      "Multiple Comparisons of Means: Tukey Contrasts\n",
      "\n",
      "\n",
      "Fit: aov(formula = value ~ column, data = graphdata_long)\n",
      "\n",
      "Linear Hypotheses:\n",
      "                   Estimate Std. Error t value Pr(>|t|)    \n",
      "Maya1 - DMSO == 0    -569.1    11495.1  -0.050        1    \n",
      "Maya2 - DMSO == 0    1286.6    10816.0   0.119        1    \n",
      "flg20 - DMSO == 0    -275.0     9489.4  -0.029        1    \n",
      "flg22 - DMSO == 0  280343.2     9804.2  28.594   <1e-08 ***\n",
      "Maya2 - Maya1 == 0   1855.6    11677.6   0.159        1    \n",
      "flg20 - Maya1 == 0    294.1    10460.9   0.028        1    \n",
      "flg22 - Maya1 == 0 280912.2    10747.2  26.138   <1e-08 ***\n",
      "flg20 - Maya2 == 0  -1561.5     9709.7  -0.161        1    \n",
      "flg22 - Maya2 == 0 279056.6    10017.5  27.857   <1e-08 ***\n",
      "flg22 - flg20 == 0 280618.1     8568.2  32.751   <1e-08 ***\n",
      "---\n",
      "Signif. codes:  0 ‘***’ 0.001 ‘**’ 0.01 ‘*’ 0.05 ‘.’ 0.1 ‘ ’ 1\n",
      "(Adjusted p values reported -- single-step method)\n",
      "\n"
     ]
    }
   ],
   "source": [
    "##### Load packages #####\n",
    "library(tidyverse)\n",
    "library(multcomp)\n",
    "library(ggplot2)\n",
    "# Load CSV\n",
    "graphdata <- read.csv(\"ED fig.10b.csv\")\n",
    "\n",
    "# Reshape the data from wide to long format\n",
    "graphdata_long <- graphdata %>%\n",
    "  gather(column, value)\n",
    "\n",
    "graphdata_long <- na.omit(graphdata_long)\n",
    "graphdata_long$column <- factor(graphdata_long$column)\n",
    "\n",
    "# Extract unique values of \"column\" variable and preserve order\n",
    "x_order <- unique(graphdata_long$column)\n",
    "\n",
    "# Perform one-way ANOVA\n",
    "res.aov <- aov(value ~ column, data = graphdata_long)\n",
    "print(summary(res.aov))\n",
    "tukey_result <- glht(res.aov, linfct = mcp(column = \"Tukey\"))\n",
    "multcomps <- cld(tukey_result)\n",
    "print(multcomps)\n",
    "print(summary(tukey_result))\n"
   ]
  },
  {
   "cell_type": "code",
   "execution_count": null,
   "id": "1d82caf8-d24e-45f7-ab8c-42e75d69b6cb",
   "metadata": {},
   "outputs": [],
   "source": []
  }
 ],
 "metadata": {
  "kernelspec": {
   "display_name": "R",
   "language": "R",
   "name": "ir"
  },
  "language_info": {
   "codemirror_mode": "r",
   "file_extension": ".r",
   "mimetype": "text/x-r-source",
   "name": "R",
   "pygments_lexer": "r",
   "version": "4.4.1"
  }
 },
 "nbformat": 4,
 "nbformat_minor": 5
}
