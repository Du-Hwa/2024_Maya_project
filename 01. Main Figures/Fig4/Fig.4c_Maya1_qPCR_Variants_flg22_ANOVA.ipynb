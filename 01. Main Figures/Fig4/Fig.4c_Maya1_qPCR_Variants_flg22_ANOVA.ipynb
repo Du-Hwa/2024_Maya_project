{
 "cells": [
  {
   "cell_type": "code",
   "execution_count": 2,
   "id": "5db44dc1-5cac-4284-ab6f-b21eda0efddd",
   "metadata": {},
   "outputs": [
    {
     "name": "stdout",
     "output_type": "stream",
     "text": [
      "            Df Sum Sq Mean Sq F value Pr(>F)    \n",
      "column       6  684.1  114.01   89.15 <2e-16 ***\n",
      "Residuals   49   62.7    1.28                   \n",
      "---\n",
      "Signif. codes:  0 ‘***’ 0.001 ‘**’ 0.01 ‘*’ 0.05 ‘.’ 0.1 ‘ ’ 1\n",
      "   X.1_WT X02_R294A X03_R440A X04_R533A X05_D605A X06_Y629A  X07_fls2 \n",
      "      \"a\"       \"b\"      \"cd\"      \"cd\"       \"c\"       \"d\"       \"e\" \n",
      "\n",
      "\t Simultaneous Tests for General Linear Hypotheses\n",
      "\n",
      "Multiple Comparisons of Means: Tukey Contrasts\n",
      "\n",
      "\n",
      "Fit: aov(formula = value ~ column, data = graphdata_long)\n",
      "\n",
      "Linear Hypotheses:\n",
      "                           Estimate Std. Error t value Pr(>|t|)    \n",
      "X02_R294A - X.1_WT == 0     -8.3661     0.5654 -14.796  < 0.001 ***\n",
      "X03_R440A - X.1_WT == 0     -3.8181     0.5654  -6.753  < 0.001 ***\n",
      "X04_R533A - X.1_WT == 0     -2.7607     0.5654  -4.883  < 0.001 ***\n",
      "X05_D605A - X.1_WT == 0     -4.2327     0.5654  -7.486  < 0.001 ***\n",
      "X06_Y629A - X.1_WT == 0     -2.2957     0.5654  -4.060  0.00309 ** \n",
      "X07_fls2 - X.1_WT == 0     -10.9824     0.5654 -19.423  < 0.001 ***\n",
      "X03_R440A - X02_R294A == 0   4.5480     0.5654   8.044  < 0.001 ***\n",
      "X04_R533A - X02_R294A == 0   5.6054     0.5654   9.914  < 0.001 ***\n",
      "X05_D605A - X02_R294A == 0   4.1334     0.5654   7.310  < 0.001 ***\n",
      "X06_Y629A - X02_R294A == 0   6.0704     0.5654  10.736  < 0.001 ***\n",
      "X07_fls2 - X02_R294A == 0   -2.6163     0.5654  -4.627  < 0.001 ***\n",
      "X04_R533A - X03_R440A == 0   1.0574     0.5654   1.870  0.50901    \n",
      "X05_D605A - X03_R440A == 0  -0.4146     0.5654  -0.733  0.98976    \n",
      "X06_Y629A - X03_R440A == 0   1.5224     0.5654   2.692  0.12188    \n",
      "X07_fls2 - X03_R440A == 0   -7.1643     0.5654 -12.671  < 0.001 ***\n",
      "X05_D605A - X04_R533A == 0  -1.4720     0.5654  -2.603  0.14715    \n",
      "X06_Y629A - X04_R533A == 0   0.4650     0.5654   0.822  0.98146    \n",
      "X07_fls2 - X04_R533A == 0   -8.2217     0.5654 -14.541  < 0.001 ***\n",
      "X06_Y629A - X05_D605A == 0   1.9370     0.5654   3.426  0.01987 *  \n",
      "X07_fls2 - X05_D605A == 0   -6.7497     0.5654 -11.937  < 0.001 ***\n",
      "X07_fls2 - X06_Y629A == 0   -8.6867     0.5654 -15.363  < 0.001 ***\n",
      "---\n",
      "Signif. codes:  0 ‘***’ 0.001 ‘**’ 0.01 ‘*’ 0.05 ‘.’ 0.1 ‘ ’ 1\n",
      "(Adjusted p values reported -- single-step method)\n",
      "\n"
     ]
    }
   ],
   "source": [
    "##### Load packages #####\n",
    "library(tidyverse)\n",
    "library(multcomp)\n",
    "library(ggplot2)\n",
    "# Load CSV\n",
    "graphdata <- read.csv(\"Fig.4c.csv\")\n",
    "\n",
    "# Reshape the data from wide to long format\n",
    "graphdata_long <- graphdata %>%\n",
    "  gather(column, value)\n",
    "\n",
    "graphdata_long <- na.omit(graphdata_long)\n",
    "graphdata_long$column <- factor(graphdata_long$column)\n",
    "\n",
    "# Extract unique values of \"column\" variable and preserve order\n",
    "x_order <- unique(graphdata_long$column)\n",
    "\n",
    "# Perform one-way ANOVA\n",
    "res.aov <- aov(value ~ column, data = graphdata_long)\n",
    "print(summary(res.aov))\n",
    "tukey_result <- glht(res.aov, linfct = mcp(column = \"Tukey\"))\n",
    "multcomps <- cld(tukey_result)\n",
    "print(multcomps)\n",
    "print(summary(tukey_result))\n"
   ]
  },
  {
   "cell_type": "code",
   "execution_count": null,
   "id": "276da523-6eb4-4145-a5a3-1d9187dd3bfe",
   "metadata": {},
   "outputs": [],
   "source": []
  }
 ],
 "metadata": {
  "kernelspec": {
   "display_name": "R",
   "language": "R",
   "name": "ir"
  },
  "language_info": {
   "codemirror_mode": "r",
   "file_extension": ".r",
   "mimetype": "text/x-r-source",
   "name": "R",
   "pygments_lexer": "r",
   "version": "4.4.1"
  }
 },
 "nbformat": 4,
 "nbformat_minor": 5
}
