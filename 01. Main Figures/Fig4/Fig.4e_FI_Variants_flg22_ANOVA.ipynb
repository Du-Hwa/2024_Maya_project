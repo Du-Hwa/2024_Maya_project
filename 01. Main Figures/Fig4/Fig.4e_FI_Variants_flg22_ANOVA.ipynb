{
 "cells": [
  {
   "cell_type": "code",
   "execution_count": 2,
   "id": "5db44dc1-5cac-4284-ab6f-b21eda0efddd",
   "metadata": {},
   "outputs": [
    {
     "name": "stdout",
     "output_type": "stream",
     "text": [
      "            Df    Sum Sq   Mean Sq F value   Pr(>F)    \n",
      "column       5 2.377e+13 4.753e+12   19.47 1.11e-09 ***\n",
      "Residuals   39 9.520e+12 2.441e+11                     \n",
      "---\n",
      "Signif. codes:  0 ‘***’ 0.001 ‘**’ 0.01 ‘*’ 0.05 ‘.’ 0.1 ‘ ’ 1\n",
      "   X01_WT_flg22 X02_R294A_flg22 X03_R440A_flg22 X04_R533A_flg22 X05_R605A_flg22 \n",
      "            \"a\"             \"b\"             \"a\"             \"a\"             \"a\" \n",
      "X06_Y629A_flg22 \n",
      "            \"a\" \n",
      "\n",
      "\t Simultaneous Tests for General Linear Hypotheses\n",
      "\n",
      "Multiple Comparisons of Means: Tukey Contrasts\n",
      "\n",
      "\n",
      "Fit: aov(formula = value ~ column, data = graphdata_long)\n",
      "\n",
      "Linear Hypotheses:\n",
      "                                       Estimate Std. Error t value Pr(>|t|)    \n",
      "X02_R294A_flg22 - X01_WT_flg22 == 0    -2008633     260392  -7.714   <0.001 ***\n",
      "X03_R440A_flg22 - X01_WT_flg22 == 0     -256976     255131  -1.007    0.912    \n",
      "X04_R533A_flg22 - X01_WT_flg22 == 0     -714290     274869  -2.599    0.121    \n",
      "X05_R605A_flg22 - X01_WT_flg22 == 0     -356067     285245  -1.248    0.809    \n",
      "X06_Y629A_flg22 - X01_WT_flg22 == 0      -45828     274869  -0.167    1.000    \n",
      "X03_R440A_flg22 - X02_R294A_flg22 == 0  1751658     227005   7.716   <0.001 ***\n",
      "X04_R533A_flg22 - X02_R294A_flg22 == 0  1294344     248982   5.199   <0.001 ***\n",
      "X05_R605A_flg22 - X02_R294A_flg22 == 0  1652567     260392   6.346   <0.001 ***\n",
      "X06_Y629A_flg22 - X02_R294A_flg22 == 0  1962805     248982   7.883   <0.001 ***\n",
      "X04_R533A_flg22 - X03_R440A_flg22 == 0  -457314     243475  -1.878    0.429    \n",
      "X05_R605A_flg22 - X03_R440A_flg22 == 0   -99091     255131  -0.388    0.999    \n",
      "X06_Y629A_flg22 - X03_R440A_flg22 == 0   211147     243475   0.867    0.952    \n",
      "X05_R605A_flg22 - X04_R533A_flg22 == 0   358223     274869   1.303    0.780    \n",
      "X06_Y629A_flg22 - X04_R533A_flg22 == 0   668461     264086   2.531    0.139    \n",
      "X06_Y629A_flg22 - X05_R605A_flg22 == 0   310238     274869   1.129    0.866    \n",
      "---\n",
      "Signif. codes:  0 ‘***’ 0.001 ‘**’ 0.01 ‘*’ 0.05 ‘.’ 0.1 ‘ ’ 1\n",
      "(Adjusted p values reported -- single-step method)\n",
      "\n"
     ]
    }
   ],
   "source": [
    "##### Load packages #####\n",
    "library(tidyverse)\n",
    "library(multcomp)\n",
    "library(ggplot2)\n",
    "# Load CSV\n",
    "graphdata <- read.csv(\"Fig.4e.csv\")\n",
    "\n",
    "# Reshape the data from wide to long format\n",
    "graphdata_long <- graphdata %>%\n",
    "  gather(column, value)\n",
    "\n",
    "graphdata_long <- na.omit(graphdata_long)\n",
    "graphdata_long$column <- factor(graphdata_long$column)\n",
    "\n",
    "# Extract unique values of \"column\" variable and preserve order\n",
    "x_order <- unique(graphdata_long$column)\n",
    "\n",
    "# Perform one-way ANOVA\n",
    "res.aov <- aov(value ~ column, data = graphdata_long)\n",
    "print(summary(res.aov))\n",
    "tukey_result <- glht(res.aov, linfct = mcp(column = \"Tukey\"))\n",
    "multcomps <- cld(tukey_result)\n",
    "print(multcomps)\n",
    "print(summary(tukey_result))\n"
   ]
  },
  {
   "cell_type": "code",
   "execution_count": null,
   "id": "276da523-6eb4-4145-a5a3-1d9187dd3bfe",
   "metadata": {},
   "outputs": [],
   "source": []
  }
 ],
 "metadata": {
  "kernelspec": {
   "display_name": "R",
   "language": "R",
   "name": "ir"
  },
  "language_info": {
   "codemirror_mode": "r",
   "file_extension": ".r",
   "mimetype": "text/x-r-source",
   "name": "R",
   "pygments_lexer": "r",
   "version": "4.4.1"
  }
 },
 "nbformat": 4,
 "nbformat_minor": 5
}
