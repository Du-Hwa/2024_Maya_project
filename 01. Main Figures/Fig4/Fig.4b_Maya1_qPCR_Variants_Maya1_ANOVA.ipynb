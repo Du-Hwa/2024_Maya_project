{
 "cells": [
  {
   "cell_type": "code",
   "execution_count": 2,
   "id": "5db44dc1-5cac-4284-ab6f-b21eda0efddd",
   "metadata": {},
   "outputs": [
    {
     "name": "stdout",
     "output_type": "stream",
     "text": [
      "            Df Sum Sq Mean Sq F value   Pr(>F)    \n",
      "column       7  90.17  12.881   19.69 5.12e-13 ***\n",
      "Residuals   56  36.64   0.654                     \n",
      "---\n",
      "Signif. codes:  0 ‘***’ 0.001 ‘**’ 0.01 ‘*’ 0.05 ‘.’ 0.1 ‘ ’ 1\n"
     ]
    },
    {
     "name": "stderr",
     "output_type": "stream",
     "text": [
      "Warning message in RET$pfunction(\"adjusted\", ...):\n",
      "“Completion with error > abseps”\n"
     ]
    },
    {
     "name": "stdout",
     "output_type": "stream",
     "text": [
      "   X01_WT X02_R294A X03_R440A X04_Q485A X05_R533A X06_D605A X07_Y629A  X08_fls2 \n",
      "      \"a\"       \"a\"       \"b\"       \"b\"       \"b\"       \"b\"       \"b\"       \"b\" \n",
      "\n",
      "\t Simultaneous Tests for General Linear Hypotheses\n",
      "\n",
      "Multiple Comparisons of Means: Tukey Contrasts\n",
      "\n",
      "\n",
      "Fit: aov(formula = value ~ column, data = graphdata_long)\n",
      "\n",
      "Linear Hypotheses:\n",
      "                           Estimate Std. Error t value Pr(>|t|)    \n",
      "X02_R294A - X01_WT == 0    -0.09134    0.40444  -0.226    1.000    \n",
      "X03_R440A - X01_WT == 0    -2.31921    0.40444  -5.734   <0.001 ***\n",
      "X04_Q485A - X01_WT == 0    -2.85263    0.40444  -7.053   <0.001 ***\n",
      "X05_R533A - X01_WT == 0    -2.60294    0.40444  -6.436   <0.001 ***\n",
      "X06_D605A - X01_WT == 0    -2.34885    0.40444  -5.808   <0.001 ***\n",
      "X07_Y629A - X01_WT == 0    -3.29675    0.40444  -8.151   <0.001 ***\n",
      "X08_fls2 - X01_WT == 0     -2.80283    0.40444  -6.930   <0.001 ***\n",
      "X03_R440A - X02_R294A == 0 -2.22787    0.40444  -5.509   <0.001 ***\n",
      "X04_Q485A - X02_R294A == 0 -2.76129    0.40444  -6.828   <0.001 ***\n",
      "X05_R533A - X02_R294A == 0 -2.51160    0.40444  -6.210   <0.001 ***\n",
      "X06_D605A - X02_R294A == 0 -2.25751    0.40444  -5.582   <0.001 ***\n",
      "X07_Y629A - X02_R294A == 0 -3.20541    0.40444  -7.926   <0.001 ***\n",
      "X08_fls2 - X02_R294A == 0  -2.71149    0.40444  -6.704   <0.001 ***\n",
      "X04_Q485A - X03_R440A == 0 -0.53342    0.40444  -1.319    0.888    \n",
      "X05_R533A - X03_R440A == 0 -0.28373    0.40444  -0.702    0.997    \n",
      "X06_D605A - X03_R440A == 0 -0.02964    0.40444  -0.073    1.000    \n",
      "X07_Y629A - X03_R440A == 0 -0.97755    0.40444  -2.417    0.254    \n",
      "X08_fls2 - X03_R440A == 0  -0.48362    0.40444  -1.196    0.930    \n",
      "X05_R533A - X04_Q485A == 0  0.24969    0.40444   0.617    0.998    \n",
      "X06_D605A - X04_Q485A == 0  0.50378    0.40444   1.246    0.914    \n",
      "X07_Y629A - X04_Q485A == 0 -0.44413    0.40444  -1.098    0.955    \n",
      "X08_fls2 - X04_Q485A == 0   0.04980    0.40444   0.123    1.000    \n",
      "X06_D605A - X05_R533A == 0  0.25409    0.40444   0.628    0.998    \n",
      "X07_Y629A - X05_R533A == 0 -0.69381    0.40444  -1.716    0.677    \n",
      "X08_fls2 - X05_R533A == 0  -0.19989    0.40444  -0.494    1.000    \n",
      "X07_Y629A - X06_D605A == 0 -0.94791    0.40444  -2.344    0.289    \n",
      "X08_fls2 - X06_D605A == 0  -0.45398    0.40444  -1.123    0.949    \n",
      "X08_fls2 - X07_Y629A == 0   0.49393    0.40444   1.221    0.922    \n",
      "---\n",
      "Signif. codes:  0 ‘***’ 0.001 ‘**’ 0.01 ‘*’ 0.05 ‘.’ 0.1 ‘ ’ 1\n",
      "(Adjusted p values reported -- single-step method)\n",
      "\n"
     ]
    }
   ],
   "source": [
    "##### Load packages #####\n",
    "library(tidyverse)\n",
    "library(multcomp)\n",
    "library(ggplot2)\n",
    "# Load CSV\n",
    "graphdata <- read.csv(\"Fig.4b.csv\")\n",
    "\n",
    "# Reshape the data from wide to long format\n",
    "graphdata_long <- graphdata %>%\n",
    "  gather(column, value)\n",
    "\n",
    "graphdata_long <- na.omit(graphdata_long)\n",
    "graphdata_long$column <- factor(graphdata_long$column)\n",
    "\n",
    "# Extract unique values of \"column\" variable and preserve order\n",
    "x_order <- unique(graphdata_long$column)\n",
    "\n",
    "# Perform one-way ANOVA\n",
    "res.aov <- aov(value ~ column, data = graphdata_long)\n",
    "print(summary(res.aov))\n",
    "tukey_result <- glht(res.aov, linfct = mcp(column = \"Tukey\"))\n",
    "multcomps <- cld(tukey_result)\n",
    "print(multcomps)\n",
    "print(summary(tukey_result))\n"
   ]
  },
  {
   "cell_type": "code",
   "execution_count": null,
   "id": "276da523-6eb4-4145-a5a3-1d9187dd3bfe",
   "metadata": {},
   "outputs": [],
   "source": []
  }
 ],
 "metadata": {
  "kernelspec": {
   "display_name": "R",
   "language": "R",
   "name": "ir"
  },
  "language_info": {
   "codemirror_mode": "r",
   "file_extension": ".r",
   "mimetype": "text/x-r-source",
   "name": "R",
   "pygments_lexer": "r",
   "version": "4.4.1"
  }
 },
 "nbformat": 4,
 "nbformat_minor": 5
}
