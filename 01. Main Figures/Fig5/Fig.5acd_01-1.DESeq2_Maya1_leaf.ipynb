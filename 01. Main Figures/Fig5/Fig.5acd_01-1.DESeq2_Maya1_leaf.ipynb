{
 "cells": [
  {
   "cell_type": "code",
   "execution_count": 2,
   "id": "40b7014b-0152-4412-bc6e-a3384bba0c24",
   "metadata": {},
   "outputs": [],
   "source": [
    "### Load library -----\n",
    "library(DESeq2)\n",
    "library(tidyverse)"
   ]
  },
  {
   "cell_type": "code",
   "execution_count": 4,
   "id": "95afe235-7e2b-4e07-a26e-68e566f452c7",
   "metadata": {},
   "outputs": [
    {
     "data": {
      "text/html": [
       "<style>\n",
       ".list-inline {list-style: none; margin:0; padding: 0}\n",
       ".list-inline>li {display: inline-block}\n",
       ".list-inline>li:not(:last-child)::after {content: \"\\00b7\"; padding: 0 .5ex}\n",
       "</style>\n",
       "<ol class=list-inline><li>'X183397_10'</li><li>'X183398_11'</li><li>'X183399_12'</li><li>'X183400_13'</li><li>'X183401_14'</li><li>'X183402_15'</li></ol>\n"
      ],
      "text/latex": [
       "\\begin{enumerate*}\n",
       "\\item 'X183397\\_10'\n",
       "\\item 'X183398\\_11'\n",
       "\\item 'X183399\\_12'\n",
       "\\item 'X183400\\_13'\n",
       "\\item 'X183401\\_14'\n",
       "\\item 'X183402\\_15'\n",
       "\\end{enumerate*}\n"
      ],
      "text/markdown": [
       "1. 'X183397_10'\n",
       "2. 'X183398_11'\n",
       "3. 'X183399_12'\n",
       "4. 'X183400_13'\n",
       "5. 'X183401_14'\n",
       "6. 'X183402_15'\n",
       "\n",
       "\n"
      ],
      "text/plain": [
       "[1] \"X183397_10\" \"X183398_11\" \"X183399_12\" \"X183400_13\" \"X183401_14\"\n",
       "[6] \"X183402_15\""
      ]
     },
     "metadata": {},
     "output_type": "display_data"
    },
    {
     "data": {
      "text/html": [
       "<style>\n",
       ".list-inline {list-style: none; margin:0; padding: 0}\n",
       ".list-inline>li {display: inline-block}\n",
       ".list-inline>li:not(:last-child)::after {content: \"\\00b7\"; padding: 0 .5ex}\n",
       "</style>\n",
       "<ol class=list-inline><li>'X183403_16'</li><li>'X183404_17'</li><li>'X183405_18'</li><li>'X183406_19'</li><li>'X183407_20'</li><li>'X183408_21'</li></ol>\n"
      ],
      "text/latex": [
       "\\begin{enumerate*}\n",
       "\\item 'X183403\\_16'\n",
       "\\item 'X183404\\_17'\n",
       "\\item 'X183405\\_18'\n",
       "\\item 'X183406\\_19'\n",
       "\\item 'X183407\\_20'\n",
       "\\item 'X183408\\_21'\n",
       "\\end{enumerate*}\n"
      ],
      "text/markdown": [
       "1. 'X183403_16'\n",
       "2. 'X183404_17'\n",
       "3. 'X183405_18'\n",
       "4. 'X183406_19'\n",
       "5. 'X183407_20'\n",
       "6. 'X183408_21'\n",
       "\n",
       "\n"
      ],
      "text/plain": [
       "[1] \"X183403_16\" \"X183404_17\" \"X183405_18\" \"X183406_19\" \"X183407_20\"\n",
       "[6] \"X183408_21\""
      ]
     },
     "metadata": {},
     "output_type": "display_data"
    },
    {
     "data": {
      "text/html": [
       "<style>\n",
       ".list-inline {list-style: none; margin:0; padding: 0}\n",
       ".list-inline>li {display: inline-block}\n",
       ".list-inline>li:not(:last-child)::after {content: \"\\00b7\"; padding: 0 .5ex}\n",
       "</style>\n",
       "<ol class=list-inline><li>'DMSO_WT'</li><li>'DMSO_WT'</li><li>'DMSO_WT'</li><li>'Maya1_WT'</li><li>'Maya1_WT'</li><li>'Maya1_WT'</li></ol>\n"
      ],
      "text/latex": [
       "\\begin{enumerate*}\n",
       "\\item 'DMSO\\_WT'\n",
       "\\item 'DMSO\\_WT'\n",
       "\\item 'DMSO\\_WT'\n",
       "\\item 'Maya1\\_WT'\n",
       "\\item 'Maya1\\_WT'\n",
       "\\item 'Maya1\\_WT'\n",
       "\\end{enumerate*}\n"
      ],
      "text/markdown": [
       "1. 'DMSO_WT'\n",
       "2. 'DMSO_WT'\n",
       "3. 'DMSO_WT'\n",
       "4. 'Maya1_WT'\n",
       "5. 'Maya1_WT'\n",
       "6. 'Maya1_WT'\n",
       "\n",
       "\n"
      ],
      "text/plain": [
       "[1] \"DMSO_WT\"  \"DMSO_WT\"  \"DMSO_WT\"  \"Maya1_WT\" \"Maya1_WT\" \"Maya1_WT\""
      ]
     },
     "metadata": {},
     "output_type": "display_data"
    },
    {
     "data": {
      "text/html": [
       "<style>\n",
       ".list-inline {list-style: none; margin:0; padding: 0}\n",
       ".list-inline>li {display: inline-block}\n",
       ".list-inline>li:not(:last-child)::after {content: \"\\00b7\"; padding: 0 .5ex}\n",
       "</style>\n",
       "<ol class=list-inline><li>'DMSO_fls2'</li><li>'DMSO_fls2'</li><li>'DMSO_fls2'</li><li>'Maya1_fls2'</li><li>'Maya1_fls2'</li><li>'Maya1_fls2'</li></ol>\n"
      ],
      "text/latex": [
       "\\begin{enumerate*}\n",
       "\\item 'DMSO\\_fls2'\n",
       "\\item 'DMSO\\_fls2'\n",
       "\\item 'DMSO\\_fls2'\n",
       "\\item 'Maya1\\_fls2'\n",
       "\\item 'Maya1\\_fls2'\n",
       "\\item 'Maya1\\_fls2'\n",
       "\\end{enumerate*}\n"
      ],
      "text/markdown": [
       "1. 'DMSO_fls2'\n",
       "2. 'DMSO_fls2'\n",
       "3. 'DMSO_fls2'\n",
       "4. 'Maya1_fls2'\n",
       "5. 'Maya1_fls2'\n",
       "6. 'Maya1_fls2'\n",
       "\n",
       "\n"
      ],
      "text/plain": [
       "[1] \"DMSO_fls2\"  \"DMSO_fls2\"  \"DMSO_fls2\"  \"Maya1_fls2\" \"Maya1_fls2\"\n",
       "[6] \"Maya1_fls2\""
      ]
     },
     "metadata": {},
     "output_type": "display_data"
    },
    {
     "data": {
      "text/html": [
       "<table class=\"dataframe\">\n",
       "<caption>A matrix: 6 × 6 of type int</caption>\n",
       "<thead>\n",
       "\t<tr><th></th><th scope=col>DMSO_WT</th><th scope=col>DMSO_WT.1</th><th scope=col>DMSO_WT.2</th><th scope=col>Maya1_WT</th><th scope=col>Maya1_WT.1</th><th scope=col>Maya1_WT.2</th></tr>\n",
       "</thead>\n",
       "<tbody>\n",
       "\t<tr><th scope=row>AT1G01010</th><td> 18</td><td> 20</td><td> 15</td><td> 41</td><td> 37</td><td> 41</td></tr>\n",
       "\t<tr><th scope=row>AT1G01020</th><td> 85</td><td>127</td><td>110</td><td>101</td><td>127</td><td>100</td></tr>\n",
       "\t<tr><th scope=row>AT1G03987</th><td>  4</td><td>  2</td><td>  0</td><td>  0</td><td>  0</td><td>  0</td></tr>\n",
       "\t<tr><th scope=row>AT1G01030</th><td> 32</td><td>  9</td><td> 45</td><td> 17</td><td> 12</td><td> 31</td></tr>\n",
       "\t<tr><th scope=row>AT1G01040</th><td>110</td><td>241</td><td>184</td><td>140</td><td>153</td><td>129</td></tr>\n",
       "\t<tr><th scope=row>AT1G03993</th><td>  0</td><td>  0</td><td>  0</td><td>  0</td><td>  0</td><td>  0</td></tr>\n",
       "</tbody>\n",
       "</table>\n"
      ],
      "text/latex": [
       "A matrix: 6 × 6 of type int\n",
       "\\begin{tabular}{r|llllll}\n",
       "  & DMSO\\_WT & DMSO\\_WT.1 & DMSO\\_WT.2 & Maya1\\_WT & Maya1\\_WT.1 & Maya1\\_WT.2\\\\\n",
       "\\hline\n",
       "\tAT1G01010 &  18 &  20 &  15 &  41 &  37 &  41\\\\\n",
       "\tAT1G01020 &  85 & 127 & 110 & 101 & 127 & 100\\\\\n",
       "\tAT1G03987 &   4 &   2 &   0 &   0 &   0 &   0\\\\\n",
       "\tAT1G01030 &  32 &   9 &  45 &  17 &  12 &  31\\\\\n",
       "\tAT1G01040 & 110 & 241 & 184 & 140 & 153 & 129\\\\\n",
       "\tAT1G03993 &   0 &   0 &   0 &   0 &   0 &   0\\\\\n",
       "\\end{tabular}\n"
      ],
      "text/markdown": [
       "\n",
       "A matrix: 6 × 6 of type int\n",
       "\n",
       "| <!--/--> | DMSO_WT | DMSO_WT.1 | DMSO_WT.2 | Maya1_WT | Maya1_WT.1 | Maya1_WT.2 |\n",
       "|---|---|---|---|---|---|---|\n",
       "| AT1G01010 |  18 |  20 |  15 |  41 |  37 |  41 |\n",
       "| AT1G01020 |  85 | 127 | 110 | 101 | 127 | 100 |\n",
       "| AT1G03987 |   4 |   2 |   0 |   0 |   0 |   0 |\n",
       "| AT1G01030 |  32 |   9 |  45 |  17 |  12 |  31 |\n",
       "| AT1G01040 | 110 | 241 | 184 | 140 | 153 | 129 |\n",
       "| AT1G03993 |   0 |   0 |   0 |   0 |   0 |   0 |\n",
       "\n"
      ],
      "text/plain": [
       "          DMSO_WT DMSO_WT.1 DMSO_WT.2 Maya1_WT Maya1_WT.1 Maya1_WT.2\n",
       "AT1G01010  18      20        15        41       37         41       \n",
       "AT1G01020  85     127       110       101      127        100       \n",
       "AT1G03987   4       2         0         0        0          0       \n",
       "AT1G01030  32       9        45        17       12         31       \n",
       "AT1G01040 110     241       184       140      153        129       \n",
       "AT1G03993   0       0         0         0        0          0       "
      ]
     },
     "metadata": {},
     "output_type": "display_data"
    },
    {
     "data": {
      "text/html": [
       "<table class=\"dataframe\">\n",
       "<caption>A matrix: 6 × 6 of type int</caption>\n",
       "<thead>\n",
       "\t<tr><th></th><th scope=col>DMSO_fls2</th><th scope=col>DMSO_fls2.1</th><th scope=col>DMSO_fls2.2</th><th scope=col>Maya1_fls2</th><th scope=col>Maya1_fls2.1</th><th scope=col>Maya1_fls2.2</th></tr>\n",
       "</thead>\n",
       "<tbody>\n",
       "\t<tr><th scope=row>AT1G01010</th><td> 23</td><td> 29</td><td>16</td><td> 41</td><td> 48</td><td> 30</td></tr>\n",
       "\t<tr><th scope=row>AT1G01020</th><td> 98</td><td>103</td><td>63</td><td>101</td><td>114</td><td> 48</td></tr>\n",
       "\t<tr><th scope=row>AT1G03987</th><td>  0</td><td>  0</td><td> 0</td><td>  0</td><td>  0</td><td>  0</td></tr>\n",
       "\t<tr><th scope=row>AT1G01030</th><td> 17</td><td> 10</td><td>11</td><td> 31</td><td> 22</td><td> 24</td></tr>\n",
       "\t<tr><th scope=row>AT1G01040</th><td>136</td><td>126</td><td>83</td><td>165</td><td>159</td><td>113</td></tr>\n",
       "\t<tr><th scope=row>AT1G03993</th><td>  0</td><td>  0</td><td> 0</td><td>  0</td><td>  0</td><td>  0</td></tr>\n",
       "</tbody>\n",
       "</table>\n"
      ],
      "text/latex": [
       "A matrix: 6 × 6 of type int\n",
       "\\begin{tabular}{r|llllll}\n",
       "  & DMSO\\_fls2 & DMSO\\_fls2.1 & DMSO\\_fls2.2 & Maya1\\_fls2 & Maya1\\_fls2.1 & Maya1\\_fls2.2\\\\\n",
       "\\hline\n",
       "\tAT1G01010 &  23 &  29 & 16 &  41 &  48 &  30\\\\\n",
       "\tAT1G01020 &  98 & 103 & 63 & 101 & 114 &  48\\\\\n",
       "\tAT1G03987 &   0 &   0 &  0 &   0 &   0 &   0\\\\\n",
       "\tAT1G01030 &  17 &  10 & 11 &  31 &  22 &  24\\\\\n",
       "\tAT1G01040 & 136 & 126 & 83 & 165 & 159 & 113\\\\\n",
       "\tAT1G03993 &   0 &   0 &  0 &   0 &   0 &   0\\\\\n",
       "\\end{tabular}\n"
      ],
      "text/markdown": [
       "\n",
       "A matrix: 6 × 6 of type int\n",
       "\n",
       "| <!--/--> | DMSO_fls2 | DMSO_fls2.1 | DMSO_fls2.2 | Maya1_fls2 | Maya1_fls2.1 | Maya1_fls2.2 |\n",
       "|---|---|---|---|---|---|---|\n",
       "| AT1G01010 |  23 |  29 | 16 |  41 |  48 |  30 |\n",
       "| AT1G01020 |  98 | 103 | 63 | 101 | 114 |  48 |\n",
       "| AT1G03987 |   0 |   0 |  0 |   0 |   0 |   0 |\n",
       "| AT1G01030 |  17 |  10 | 11 |  31 |  22 |  24 |\n",
       "| AT1G01040 | 136 | 126 | 83 | 165 | 159 | 113 |\n",
       "| AT1G03993 |   0 |   0 |  0 |   0 |   0 |   0 |\n",
       "\n"
      ],
      "text/plain": [
       "          DMSO_fls2 DMSO_fls2.1 DMSO_fls2.2 Maya1_fls2 Maya1_fls2.1\n",
       "AT1G01010  23        29         16           41         48         \n",
       "AT1G01020  98       103         63          101        114         \n",
       "AT1G03987   0         0          0            0          0         \n",
       "AT1G01030  17        10         11           31         22         \n",
       "AT1G01040 136       126         83          165        159         \n",
       "AT1G03993   0         0          0            0          0         \n",
       "          Maya1_fls2.2\n",
       "AT1G01010  30         \n",
       "AT1G01020  48         \n",
       "AT1G03987   0         \n",
       "AT1G01030  24         \n",
       "AT1G01040 113         \n",
       "AT1G03993   0         "
      ]
     },
     "metadata": {},
     "output_type": "display_data"
    }
   ],
   "source": [
    "### import GO DB -----\n",
    "#Import GO database\n",
    "GOdata<-read.csv('Reference csv/Cleaned_GO_4.csv', sep=';', header=FALSE)\n",
    "GOdata$Gene<-as.character(GOdata$V1)\n",
    "GOdata$V1<-NULL\n",
    "GOdata$geneabb<-as.character(GOdata$V2)\n",
    "GOdata$V2<-NULL\n",
    "GOdata$genename<-as.character(GOdata$V3)\n",
    "GOdata$V3<-NULL\n",
    "GOdata$GO<-as.character(GOdata$V4)\n",
    "GOdata$V4<-NULL\n",
    "\n",
    "### featureCount data import -----\n",
    "#Importing output of featurecounts\n",
    "countdata_wt <- read.table(\"featureCounts/01.Maya1_WT_leaf\", header=TRUE, row.names='Geneid' )\n",
    "countdata_fls2 <- read.table(\"featureCounts/02.Maya1_fls2_leaf\", header=TRUE, row.names='Geneid' )\n",
    "\n",
    "#remove first 5 lines which is useless\n",
    "countdata_wt <- countdata_wt[ ,6:ncol(countdata_wt)]\n",
    "countdata_fls2 <- countdata_fls2[ ,6:ncol(countdata_fls2)]\n",
    "\n",
    "#remove .bam in the sample name\n",
    "colnames(countdata_wt) <- gsub(\"\\\\_a.bam$\", \"\", colnames(countdata_wt))\n",
    "rownames(countdata_wt) <- gsub(\"gene:\", \"\", rownames(countdata_wt))\n",
    "colnames(countdata_wt)\n",
    "\n",
    "colnames(countdata_fls2) <- gsub(\"\\\\_a.bam$\", \"\", colnames(countdata_fls2))\n",
    "rownames(countdata_fls2) <- gsub(\"gene:\", \"\", rownames(countdata_fls2))\n",
    "colnames(countdata_fls2)\n",
    "\n",
    "#Import sample information\n",
    "saminfo_wt <- read.csv(\"Saminfo/01.Saminfo_Maya1_leaf_WT.csv\")\n",
    "saminfo_fls2 <- read.csv(\"Saminfo/02.Saminfo_Maya1_leaf_fls2.csv\")\n",
    "\n",
    "#change column names using saminfo\n",
    "colnames(countdata_wt) <- saminfo_wt$condition\n",
    "colnames(countdata_wt)\n",
    "colnames(countdata_fls2) <- saminfo_fls2$condition\n",
    "colnames(countdata_fls2)\n",
    "\n",
    "#sort by column names\n",
    "saminfo_wt <- arrange(saminfo_wt, index)\n",
    "countdata_wt <- countdata_wt[,c(saminfo_wt$index)]\n",
    "\n",
    "saminfo_fls2 <- arrange(saminfo_fls2, index)\n",
    "countdata_fls2 <- countdata_fls2[,c(saminfo_fls2$index)]\n",
    "\n",
    "#change it to matrix\n",
    "countdata_wt <- as.matrix(countdata_wt)\n",
    "countdata_fls2 <- as.matrix(countdata_fls2)\n",
    "head(countdata_wt)\n",
    "head(countdata_fls2)\n"
   ]
  },
  {
   "cell_type": "code",
   "execution_count": 5,
   "id": "5b5704d5-111b-4442-b6f0-9ea4bb1d2cd4",
   "metadata": {},
   "outputs": [
    {
     "name": "stderr",
     "output_type": "stream",
     "text": [
      "estimating size factors\n",
      "\n",
      "estimating dispersions\n",
      "\n",
      "gene-wise dispersion estimates\n",
      "\n",
      "mean-dispersion relationship\n",
      "\n",
      "final dispersion estimates\n",
      "\n",
      "fitting model and testing\n",
      "\n",
      "estimating size factors\n",
      "\n",
      "estimating dispersions\n",
      "\n",
      "gene-wise dispersion estimates\n",
      "\n",
      "mean-dispersion relationship\n",
      "\n",
      "final dispersion estimates\n",
      "\n",
      "fitting model and testing\n",
      "\n"
     ]
    },
    {
     "data": {
      "text/plain": [
       "\n",
       "FALSE  TRUE \n",
       "10823   451 "
      ]
     },
     "metadata": {},
     "output_type": "display_data"
    },
    {
     "data": {
      "text/plain": [
       "\n",
       "FALSE  TRUE \n",
       "12486   211 "
      ]
     },
     "metadata": {},
     "output_type": "display_data"
    }
   ],
   "source": [
    "### DEseq analysis -----\n",
    "#define factor for DEseq\n",
    "condition_wt <- factor(c(rep('DMSO_WT', 3), rep('Maya1_WT', 3)))\n",
    "condition_fls2 <- factor(c(rep('DMSO_fls2', 3), rep('Maya1_fls2', 3)))\n",
    "\n",
    "saminfo_wt$colnames_count <- colnames(countdata_wt)\n",
    "coldata_wt <- data.frame(row.names=colnames(countdata_wt), condition_wt)\n",
    "\n",
    "saminfo_fls2$colnames_count <- colnames(countdata_fls2)\n",
    "coldata_fls2 <- data.frame(row.names=colnames(countdata_fls2), condition_fls2)\n",
    "\n",
    "#Chem screening\n",
    "dds_wt <- DESeqDataSetFromMatrix(countData=countdata_wt, colData=coldata_wt, design=~condition_wt)\n",
    "dds_wt <- DESeq(dds_wt)\n",
    "colnames(dds_wt) <- condition_wt\n",
    "\n",
    "dds_fls2 <- DESeqDataSetFromMatrix(countData=countdata_fls2, colData=coldata_fls2, design=~condition_fls2)\n",
    "dds_fls2 <- DESeq(dds_fls2)\n",
    "colnames(dds_fls2) <- condition_fls2\n",
    "\n",
    "res_wt <- results(dds_wt, contrast=c('condition_wt', 'Maya1_WT', 'DMSO_WT'))\n",
    "res_fls2 <- results(dds_fls2, contrast=c('condition_fls2', 'Maya1_fls2', 'DMSO_fls2'))\n",
    "\n",
    "table(res_wt$padj<0.1)\n",
    "table(res_fls2$padj<0.1)\n",
    "\n",
    "resDF_wt<-as.data.frame(res_wt)\n",
    "resDF_fls2<-as.data.frame(res_fls2)\n",
    "\n",
    "output_wt <- merge(resDF_wt, as.data.frame(counts(dds_wt, normalized=TRUE)), by=\"row.names\", sort=FALSE)\n",
    "output_fls2 <- merge(resDF_fls2, as.data.frame(counts(dds_fls2, normalized=TRUE)), by=\"row.names\", sort=FALSE)\n",
    "\n",
    "names(output_wt)[1] <- \"Gene\"\n",
    "names(output_fls2)[1] <- \"Gene\"\n",
    "\n",
    "output_wt<-merge(GOdata, output_wt, by=\"Gene\")\n",
    "output_fls2<-merge(GOdata, output_fls2, by=\"Gene\")\n",
    "\n",
    "write.csv(output_wt, file=\"DESeq2/DEseq2_results_WT_Maya1_leaf.csv\")\n",
    "write.csv(output_fls2, file=\"DESeq2/DEseq2_results_fls2_Maya1_leaf.csv\")"
   ]
  },
  {
   "cell_type": "code",
   "execution_count": 6,
   "id": "19444512-652f-43b5-a60c-979bf7298e93",
   "metadata": {},
   "outputs": [
    {
     "data": {
      "text/html": [
       "<style>\n",
       ".list-inline {list-style: none; margin:0; padding: 0}\n",
       ".list-inline>li {display: inline-block}\n",
       ".list-inline>li:not(:last-child)::after {content: \"\\00b7\"; padding: 0 .5ex}\n",
       "</style>\n",
       "<ol class=list-inline><li>'Gene'</li><li>'geneabb.x'</li><li>'genename.x'</li><li>'GO.x'</li><li>'baseMean.x'</li><li>'log2FoldChange.x'</li><li>'lfcSE.x'</li><li>'stat.x'</li><li>'pvalue.x'</li><li>'padj.x'</li><li>'DMSO_WT'</li><li>'DMSO_WT.1'</li><li>'DMSO_WT.2'</li><li>'Maya1_WT'</li><li>'Maya1_WT.1'</li><li>'Maya1_WT.2'</li><li>'geneabb.y'</li><li>'genename.y'</li><li>'GO.y'</li><li>'baseMean.y'</li><li>'log2FoldChange.y'</li><li>'lfcSE.y'</li><li>'stat.y'</li><li>'pvalue.y'</li><li>'padj.y'</li><li>'DMSO_fls2'</li><li>'DMSO_fls2.1'</li><li>'DMSO_fls2.2'</li><li>'Maya1_fls2'</li><li>'Maya1_fls2.1'</li><li>'Maya1_fls2.2'</li></ol>\n"
      ],
      "text/latex": [
       "\\begin{enumerate*}\n",
       "\\item 'Gene'\n",
       "\\item 'geneabb.x'\n",
       "\\item 'genename.x'\n",
       "\\item 'GO.x'\n",
       "\\item 'baseMean.x'\n",
       "\\item 'log2FoldChange.x'\n",
       "\\item 'lfcSE.x'\n",
       "\\item 'stat.x'\n",
       "\\item 'pvalue.x'\n",
       "\\item 'padj.x'\n",
       "\\item 'DMSO\\_WT'\n",
       "\\item 'DMSO\\_WT.1'\n",
       "\\item 'DMSO\\_WT.2'\n",
       "\\item 'Maya1\\_WT'\n",
       "\\item 'Maya1\\_WT.1'\n",
       "\\item 'Maya1\\_WT.2'\n",
       "\\item 'geneabb.y'\n",
       "\\item 'genename.y'\n",
       "\\item 'GO.y'\n",
       "\\item 'baseMean.y'\n",
       "\\item 'log2FoldChange.y'\n",
       "\\item 'lfcSE.y'\n",
       "\\item 'stat.y'\n",
       "\\item 'pvalue.y'\n",
       "\\item 'padj.y'\n",
       "\\item 'DMSO\\_fls2'\n",
       "\\item 'DMSO\\_fls2.1'\n",
       "\\item 'DMSO\\_fls2.2'\n",
       "\\item 'Maya1\\_fls2'\n",
       "\\item 'Maya1\\_fls2.1'\n",
       "\\item 'Maya1\\_fls2.2'\n",
       "\\end{enumerate*}\n"
      ],
      "text/markdown": [
       "1. 'Gene'\n",
       "2. 'geneabb.x'\n",
       "3. 'genename.x'\n",
       "4. 'GO.x'\n",
       "5. 'baseMean.x'\n",
       "6. 'log2FoldChange.x'\n",
       "7. 'lfcSE.x'\n",
       "8. 'stat.x'\n",
       "9. 'pvalue.x'\n",
       "10. 'padj.x'\n",
       "11. 'DMSO_WT'\n",
       "12. 'DMSO_WT.1'\n",
       "13. 'DMSO_WT.2'\n",
       "14. 'Maya1_WT'\n",
       "15. 'Maya1_WT.1'\n",
       "16. 'Maya1_WT.2'\n",
       "17. 'geneabb.y'\n",
       "18. 'genename.y'\n",
       "19. 'GO.y'\n",
       "20. 'baseMean.y'\n",
       "21. 'log2FoldChange.y'\n",
       "22. 'lfcSE.y'\n",
       "23. 'stat.y'\n",
       "24. 'pvalue.y'\n",
       "25. 'padj.y'\n",
       "26. 'DMSO_fls2'\n",
       "27. 'DMSO_fls2.1'\n",
       "28. 'DMSO_fls2.2'\n",
       "29. 'Maya1_fls2'\n",
       "30. 'Maya1_fls2.1'\n",
       "31. 'Maya1_fls2.2'\n",
       "\n",
       "\n"
      ],
      "text/plain": [
       " [1] \"Gene\"             \"geneabb.x\"        \"genename.x\"       \"GO.x\"            \n",
       " [5] \"baseMean.x\"       \"log2FoldChange.x\" \"lfcSE.x\"          \"stat.x\"          \n",
       " [9] \"pvalue.x\"         \"padj.x\"           \"DMSO_WT\"          \"DMSO_WT.1\"       \n",
       "[13] \"DMSO_WT.2\"        \"Maya1_WT\"         \"Maya1_WT.1\"       \"Maya1_WT.2\"      \n",
       "[17] \"geneabb.y\"        \"genename.y\"       \"GO.y\"             \"baseMean.y\"      \n",
       "[21] \"log2FoldChange.y\" \"lfcSE.y\"          \"stat.y\"           \"pvalue.y\"        \n",
       "[25] \"padj.y\"           \"DMSO_fls2\"        \"DMSO_fls2.1\"      \"DMSO_fls2.2\"     \n",
       "[29] \"Maya1_fls2\"       \"Maya1_fls2.1\"     \"Maya1_fls2.2\"    "
      ]
     },
     "metadata": {},
     "output_type": "display_data"
    },
    {
     "data": {
      "text/html": [
       "<style>\n",
       ".list-inline {list-style: none; margin:0; padding: 0}\n",
       ".list-inline>li {display: inline-block}\n",
       ".list-inline>li:not(:last-child)::after {content: \"\\00b7\"; padding: 0 .5ex}\n",
       "</style>\n",
       "<ol class=list-inline><li>'Gene'</li><li>'geneabb.x'</li><li>'genename.x'</li><li>'log2FoldChange.x'</li><li>'padj.x'</li><li>'log2FoldChange.y'</li><li>'padj.y'</li><li>'DMSO_WT'</li><li>'DMSO_WT.1'</li><li>'DMSO_WT.2'</li><li>'Maya1_WT'</li><li>'Maya1_WT.1'</li><li>'Maya1_WT.2'</li><li>'DMSO_fls2'</li><li>'DMSO_fls2.1'</li><li>'DMSO_fls2.2'</li><li>'Maya1_fls2'</li><li>'Maya1_fls2.1'</li><li>'Maya1_fls2.2'</li><li>'GO.x'</li></ol>\n"
      ],
      "text/latex": [
       "\\begin{enumerate*}\n",
       "\\item 'Gene'\n",
       "\\item 'geneabb.x'\n",
       "\\item 'genename.x'\n",
       "\\item 'log2FoldChange.x'\n",
       "\\item 'padj.x'\n",
       "\\item 'log2FoldChange.y'\n",
       "\\item 'padj.y'\n",
       "\\item 'DMSO\\_WT'\n",
       "\\item 'DMSO\\_WT.1'\n",
       "\\item 'DMSO\\_WT.2'\n",
       "\\item 'Maya1\\_WT'\n",
       "\\item 'Maya1\\_WT.1'\n",
       "\\item 'Maya1\\_WT.2'\n",
       "\\item 'DMSO\\_fls2'\n",
       "\\item 'DMSO\\_fls2.1'\n",
       "\\item 'DMSO\\_fls2.2'\n",
       "\\item 'Maya1\\_fls2'\n",
       "\\item 'Maya1\\_fls2.1'\n",
       "\\item 'Maya1\\_fls2.2'\n",
       "\\item 'GO.x'\n",
       "\\end{enumerate*}\n"
      ],
      "text/markdown": [
       "1. 'Gene'\n",
       "2. 'geneabb.x'\n",
       "3. 'genename.x'\n",
       "4. 'log2FoldChange.x'\n",
       "5. 'padj.x'\n",
       "6. 'log2FoldChange.y'\n",
       "7. 'padj.y'\n",
       "8. 'DMSO_WT'\n",
       "9. 'DMSO_WT.1'\n",
       "10. 'DMSO_WT.2'\n",
       "11. 'Maya1_WT'\n",
       "12. 'Maya1_WT.1'\n",
       "13. 'Maya1_WT.2'\n",
       "14. 'DMSO_fls2'\n",
       "15. 'DMSO_fls2.1'\n",
       "16. 'DMSO_fls2.2'\n",
       "17. 'Maya1_fls2'\n",
       "18. 'Maya1_fls2.1'\n",
       "19. 'Maya1_fls2.2'\n",
       "20. 'GO.x'\n",
       "\n",
       "\n"
      ],
      "text/plain": [
       " [1] \"Gene\"             \"geneabb.x\"        \"genename.x\"       \"log2FoldChange.x\"\n",
       " [5] \"padj.x\"           \"log2FoldChange.y\" \"padj.y\"           \"DMSO_WT\"         \n",
       " [9] \"DMSO_WT.1\"        \"DMSO_WT.2\"        \"Maya1_WT\"         \"Maya1_WT.1\"      \n",
       "[13] \"Maya1_WT.2\"       \"DMSO_fls2\"        \"DMSO_fls2.1\"      \"DMSO_fls2.2\"     \n",
       "[17] \"Maya1_fls2\"       \"Maya1_fls2.1\"     \"Maya1_fls2.2\"     \"GO.x\"            "
      ]
     },
     "metadata": {},
     "output_type": "display_data"
    },
    {
     "data": {
      "text/html": [
       "<style>\n",
       ".list-inline {list-style: none; margin:0; padding: 0}\n",
       ".list-inline>li {display: inline-block}\n",
       ".list-inline>li:not(:last-child)::after {content: \"\\00b7\"; padding: 0 .5ex}\n",
       "</style>\n",
       "<ol class=list-inline><li>'Gene'</li><li>'Gene_Symbol'</li><li>'Gene_Name'</li><li>'Log2FC_WT'</li><li>'Padj_WT'</li><li>'Log2FC_fls2'</li><li>'Padj_fls2'</li><li>'DMSO_WT_rep1'</li><li>'DMSO_WT_rep2'</li><li>'DMSO_WT_rep3'</li><li>'Maya1_WT_rep1'</li><li>'Maya1_WT_rep2'</li><li>'Maya1_WT_rep3'</li><li>'DMSO_fls2_rep1'</li><li>'DMSO_fls2_rep2'</li><li>'DMSO_fls2_rep3'</li><li>'Maya1_fls2_rep1'</li><li>'Maya1_fls2_rep2'</li><li>'Maya1_fls2_rep3'</li><li>'GO'</li></ol>\n"
      ],
      "text/latex": [
       "\\begin{enumerate*}\n",
       "\\item 'Gene'\n",
       "\\item 'Gene\\_Symbol'\n",
       "\\item 'Gene\\_Name'\n",
       "\\item 'Log2FC\\_WT'\n",
       "\\item 'Padj\\_WT'\n",
       "\\item 'Log2FC\\_fls2'\n",
       "\\item 'Padj\\_fls2'\n",
       "\\item 'DMSO\\_WT\\_rep1'\n",
       "\\item 'DMSO\\_WT\\_rep2'\n",
       "\\item 'DMSO\\_WT\\_rep3'\n",
       "\\item 'Maya1\\_WT\\_rep1'\n",
       "\\item 'Maya1\\_WT\\_rep2'\n",
       "\\item 'Maya1\\_WT\\_rep3'\n",
       "\\item 'DMSO\\_fls2\\_rep1'\n",
       "\\item 'DMSO\\_fls2\\_rep2'\n",
       "\\item 'DMSO\\_fls2\\_rep3'\n",
       "\\item 'Maya1\\_fls2\\_rep1'\n",
       "\\item 'Maya1\\_fls2\\_rep2'\n",
       "\\item 'Maya1\\_fls2\\_rep3'\n",
       "\\item 'GO'\n",
       "\\end{enumerate*}\n"
      ],
      "text/markdown": [
       "1. 'Gene'\n",
       "2. 'Gene_Symbol'\n",
       "3. 'Gene_Name'\n",
       "4. 'Log2FC_WT'\n",
       "5. 'Padj_WT'\n",
       "6. 'Log2FC_fls2'\n",
       "7. 'Padj_fls2'\n",
       "8. 'DMSO_WT_rep1'\n",
       "9. 'DMSO_WT_rep2'\n",
       "10. 'DMSO_WT_rep3'\n",
       "11. 'Maya1_WT_rep1'\n",
       "12. 'Maya1_WT_rep2'\n",
       "13. 'Maya1_WT_rep3'\n",
       "14. 'DMSO_fls2_rep1'\n",
       "15. 'DMSO_fls2_rep2'\n",
       "16. 'DMSO_fls2_rep3'\n",
       "17. 'Maya1_fls2_rep1'\n",
       "18. 'Maya1_fls2_rep2'\n",
       "19. 'Maya1_fls2_rep3'\n",
       "20. 'GO'\n",
       "\n",
       "\n"
      ],
      "text/plain": [
       " [1] \"Gene\"            \"Gene_Symbol\"     \"Gene_Name\"       \"Log2FC_WT\"      \n",
       " [5] \"Padj_WT\"         \"Log2FC_fls2\"     \"Padj_fls2\"       \"DMSO_WT_rep1\"   \n",
       " [9] \"DMSO_WT_rep2\"    \"DMSO_WT_rep3\"    \"Maya1_WT_rep1\"   \"Maya1_WT_rep2\"  \n",
       "[13] \"Maya1_WT_rep3\"   \"DMSO_fls2_rep1\"  \"DMSO_fls2_rep2\"  \"DMSO_fls2_rep3\" \n",
       "[17] \"Maya1_fls2_rep1\" \"Maya1_fls2_rep2\" \"Maya1_fls2_rep3\" \"GO\"             "
      ]
     },
     "metadata": {},
     "output_type": "display_data"
    }
   ],
   "source": [
    "### Generate final table -----\n",
    "Total <- merge(output_wt, output_fls2, by = \"Gene\")\n",
    "\n",
    "colnames(Total)\n",
    "Total <- Total %>%\n",
    "  dplyr::select(Gene, geneabb.x, genename.x, log2FoldChange.x, padj.x,\n",
    "                log2FoldChange.y, padj.y,\n",
    "                starts_with(\"DMSO_WT\"), starts_with(\"Maya1_WT\"),\n",
    "                starts_with(\"DMSO_fls2\"), starts_with(\"Maya1_fls2\"),\n",
    "                GO.x)\n",
    "colnames(Total)\n",
    "\n",
    "colnames(Total) <- c(\"Gene\", \"Gene_Symbol\", \"Gene_Name\", \n",
    "                     \"Log2FC_WT\", \"Padj_WT\", \n",
    "                     \"Log2FC_fls2\", \"Padj_fls2\", \n",
    "                     \"DMSO_WT_rep1\", \"DMSO_WT_rep2\", \"DMSO_WT_rep3\",\n",
    "                     \"Maya1_WT_rep1\", \"Maya1_WT_rep2\", \"Maya1_WT_rep3\",                     \n",
    "                     \"DMSO_fls2_rep1\", \"DMSO_fls2_rep2\", \"DMSO_fls2_rep3\", \n",
    "                     \"Maya1_fls2_rep1\", \"Maya1_fls2_rep2\", \"Maya1_fls2_rep3\", \n",
    "                     \"GO\")\n",
    "colnames(Total)\n",
    "\n",
    "write.csv(Total, file=\"Total/Total_Maya1_leaf.csv\")\n"
   ]
  }
 ],
 "metadata": {
  "kernelspec": {
   "display_name": "R",
   "language": "R",
   "name": "ir"
  },
  "language_info": {
   "codemirror_mode": "r",
   "file_extension": ".r",
   "mimetype": "text/x-r-source",
   "name": "R",
   "pygments_lexer": "r",
   "version": "4.4.1"
  }
 },
 "nbformat": 4,
 "nbformat_minor": 5
}
