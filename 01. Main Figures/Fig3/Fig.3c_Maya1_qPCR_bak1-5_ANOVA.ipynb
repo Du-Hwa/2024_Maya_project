{
 "cells": [
  {
   "cell_type": "code",
   "execution_count": 2,
   "id": "5db44dc1-5cac-4284-ab6f-b21eda0efddd",
   "metadata": {},
   "outputs": [
    {
     "name": "stdout",
     "output_type": "stream",
     "text": [
      "            Df Sum Sq Mean Sq F value   Pr(>F)    \n",
      "column       8  61.41   7.676   33.65 4.29e-12 ***\n",
      "Residuals   27   6.16   0.228                     \n",
      "---\n",
      "Signif. codes:  0 ‘***’ 0.001 ‘**’ 0.01 ‘*’ 0.05 ‘.’ 0.1 ‘ ’ 1\n"
     ]
    },
    {
     "name": "stderr",
     "output_type": "stream",
     "text": [
      "Warning message in RET$pfunction(\"adjusted\", ...):\n",
      "“Completion with error > abseps”\n",
      "Warning message in RET$pfunction(\"adjusted\", ...):\n",
      "“Completion with error > abseps”\n"
     ]
    },
    {
     "name": "stdout",
     "output_type": "stream",
     "text": [
      "    X01_WT_Maya1     X02_WT_Maya2     X03_WT_flg22 X04_bak1.5_Maya1 \n",
      "            \"ab\"              \"c\"              \"d\"             \"ad\" \n",
      "X05_bak1.5_Maya2 X06_bak1.5_flg22   X07_fls2_Maya1   X08_fls2_Maya2 \n",
      "             \"c\"             \"be\"              \"c\"             \"ce\" \n",
      "  X09_fls2_flg22 \n",
      "             \"c\" \n"
     ]
    },
    {
     "name": "stderr",
     "output_type": "stream",
     "text": [
      "Warning message in RET$pfunction(\"adjusted\", ...):\n",
      "“Completion with error > abseps”\n",
      "Warning message in RET$pfunction(\"adjusted\", ...):\n",
      "“Completion with error > abseps”\n"
     ]
    },
    {
     "name": "stdout",
     "output_type": "stream",
     "text": [
      "\n",
      "\t Simultaneous Tests for General Linear Hypotheses\n",
      "\n",
      "Multiple Comparisons of Means: Tukey Contrasts\n",
      "\n",
      "\n",
      "Fit: aov(formula = value ~ column, data = graphdata_long)\n",
      "\n",
      "Linear Hypotheses:\n",
      "                                         Estimate Std. Error t value Pr(>|t|)\n",
      "X02_WT_Maya2 - X01_WT_Maya1 == 0         -1.97524    0.33771  -5.849  < 0.001\n",
      "X03_WT_flg22 - X01_WT_Maya1 == 0          1.82557    0.33771   5.406  < 0.001\n",
      "X04_bak1.5_Maya1 - X01_WT_Maya1 == 0      0.79911    0.33771   2.366  0.34088\n",
      "X05_bak1.5_Maya2 - X01_WT_Maya1 == 0     -1.79742    0.33771  -5.322  < 0.001\n",
      "X06_bak1.5_flg22 - X01_WT_Maya1 == 0     -0.33847    0.33771  -1.002  0.98239\n",
      "X07_fls2_Maya1 - X01_WT_Maya1 == 0       -1.77123    0.33771  -5.245  < 0.001\n",
      "X08_fls2_Maya2 - X01_WT_Maya1 == 0       -1.25702    0.33771  -3.722  0.02183\n",
      "X09_fls2_flg22 - X01_WT_Maya1 == 0       -2.05112    0.33771  -6.074  < 0.001\n",
      "X03_WT_flg22 - X02_WT_Maya2 == 0          3.80081    0.33771  11.255  < 0.001\n",
      "X04_bak1.5_Maya1 - X02_WT_Maya2 == 0      2.77435    0.33771   8.215  < 0.001\n",
      "X05_bak1.5_Maya2 - X02_WT_Maya2 == 0      0.17782    0.33771   0.527  0.99979\n",
      "X06_bak1.5_flg22 - X02_WT_Maya2 == 0      1.63678    0.33771   4.847  0.00124\n",
      "X07_fls2_Maya1 - X02_WT_Maya2 == 0        0.20401    0.33771   0.604  0.99943\n",
      "X08_fls2_Maya2 - X02_WT_Maya2 == 0        0.71823    0.33771   2.127  0.47732\n",
      "X09_fls2_flg22 - X02_WT_Maya2 == 0       -0.07588    0.33771  -0.225  1.00000\n",
      "X04_bak1.5_Maya1 - X03_WT_flg22 == 0     -1.02646    0.33771  -3.039  0.09973\n",
      "X05_bak1.5_Maya2 - X03_WT_flg22 == 0     -3.62299    0.33771 -10.728  < 0.001\n",
      "X06_bak1.5_flg22 - X03_WT_flg22 == 0     -2.16404    0.33771  -6.408  < 0.001\n",
      "X07_fls2_Maya1 - X03_WT_flg22 == 0       -3.59680    0.33771 -10.651  < 0.001\n",
      "X08_fls2_Maya2 - X03_WT_flg22 == 0       -3.08259    0.33771  -9.128  < 0.001\n",
      "X09_fls2_flg22 - X03_WT_flg22 == 0       -3.87669    0.33771 -11.479  < 0.001\n",
      "X05_bak1.5_Maya2 - X04_bak1.5_Maya1 == 0 -2.59653    0.33771  -7.689  < 0.001\n",
      "X06_bak1.5_flg22 - X04_bak1.5_Maya1 == 0 -1.13757    0.33771  -3.368  0.04954\n",
      "X07_fls2_Maya1 - X04_bak1.5_Maya1 == 0   -2.57034    0.33771  -7.611  < 0.001\n",
      "X08_fls2_Maya2 - X04_bak1.5_Maya1 == 0   -2.05612    0.33771  -6.088  < 0.001\n",
      "X09_fls2_flg22 - X04_bak1.5_Maya1 == 0   -2.85023    0.33771  -8.440  < 0.001\n",
      "X06_bak1.5_flg22 - X05_bak1.5_Maya2 == 0  1.45896    0.33771   4.320  0.00497\n",
      "X07_fls2_Maya1 - X05_bak1.5_Maya2 == 0    0.02619    0.33771   0.078  1.00000\n",
      "X08_fls2_Maya2 - X05_bak1.5_Maya2 == 0    0.54041    0.33771   1.600  0.79671\n",
      "X09_fls2_flg22 - X05_bak1.5_Maya2 == 0   -0.25370    0.33771  -0.751  0.99734\n",
      "X07_fls2_Maya1 - X06_bak1.5_flg22 == 0   -1.43277    0.33771  -4.243  0.00630\n",
      "X08_fls2_Maya2 - X06_bak1.5_flg22 == 0   -0.91855    0.33771  -2.720  0.18777\n",
      "X09_fls2_flg22 - X06_bak1.5_flg22 == 0   -1.71266    0.33771  -5.071  < 0.001\n",
      "X08_fls2_Maya2 - X07_fls2_Maya1 == 0      0.51422    0.33771   1.523  0.83548\n",
      "X09_fls2_flg22 - X07_fls2_Maya1 == 0     -0.27989    0.33771  -0.829  0.99481\n",
      "X09_fls2_flg22 - X08_fls2_Maya2 == 0     -0.79411    0.33771  -2.351  0.34892\n",
      "                                            \n",
      "X02_WT_Maya2 - X01_WT_Maya1 == 0         ***\n",
      "X03_WT_flg22 - X01_WT_Maya1 == 0         ***\n",
      "X04_bak1.5_Maya1 - X01_WT_Maya1 == 0        \n",
      "X05_bak1.5_Maya2 - X01_WT_Maya1 == 0     ***\n",
      "X06_bak1.5_flg22 - X01_WT_Maya1 == 0        \n",
      "X07_fls2_Maya1 - X01_WT_Maya1 == 0       ***\n",
      "X08_fls2_Maya2 - X01_WT_Maya1 == 0       *  \n",
      "X09_fls2_flg22 - X01_WT_Maya1 == 0       ***\n",
      "X03_WT_flg22 - X02_WT_Maya2 == 0         ***\n",
      "X04_bak1.5_Maya1 - X02_WT_Maya2 == 0     ***\n",
      "X05_bak1.5_Maya2 - X02_WT_Maya2 == 0        \n",
      "X06_bak1.5_flg22 - X02_WT_Maya2 == 0     ** \n",
      "X07_fls2_Maya1 - X02_WT_Maya2 == 0          \n",
      "X08_fls2_Maya2 - X02_WT_Maya2 == 0          \n",
      "X09_fls2_flg22 - X02_WT_Maya2 == 0          \n",
      "X04_bak1.5_Maya1 - X03_WT_flg22 == 0     .  \n",
      "X05_bak1.5_Maya2 - X03_WT_flg22 == 0     ***\n",
      "X06_bak1.5_flg22 - X03_WT_flg22 == 0     ***\n",
      "X07_fls2_Maya1 - X03_WT_flg22 == 0       ***\n",
      "X08_fls2_Maya2 - X03_WT_flg22 == 0       ***\n",
      "X09_fls2_flg22 - X03_WT_flg22 == 0       ***\n",
      "X05_bak1.5_Maya2 - X04_bak1.5_Maya1 == 0 ***\n",
      "X06_bak1.5_flg22 - X04_bak1.5_Maya1 == 0 *  \n",
      "X07_fls2_Maya1 - X04_bak1.5_Maya1 == 0   ***\n",
      "X08_fls2_Maya2 - X04_bak1.5_Maya1 == 0   ***\n",
      "X09_fls2_flg22 - X04_bak1.5_Maya1 == 0   ***\n",
      "X06_bak1.5_flg22 - X05_bak1.5_Maya2 == 0 ** \n",
      "X07_fls2_Maya1 - X05_bak1.5_Maya2 == 0      \n",
      "X08_fls2_Maya2 - X05_bak1.5_Maya2 == 0      \n",
      "X09_fls2_flg22 - X05_bak1.5_Maya2 == 0      \n",
      "X07_fls2_Maya1 - X06_bak1.5_flg22 == 0   ** \n",
      "X08_fls2_Maya2 - X06_bak1.5_flg22 == 0      \n",
      "X09_fls2_flg22 - X06_bak1.5_flg22 == 0   ***\n",
      "X08_fls2_Maya2 - X07_fls2_Maya1 == 0        \n",
      "X09_fls2_flg22 - X07_fls2_Maya1 == 0        \n",
      "X09_fls2_flg22 - X08_fls2_Maya2 == 0        \n",
      "---\n",
      "Signif. codes:  0 ‘***’ 0.001 ‘**’ 0.01 ‘*’ 0.05 ‘.’ 0.1 ‘ ’ 1\n",
      "(Adjusted p values reported -- single-step method)\n",
      "\n"
     ]
    }
   ],
   "source": [
    "##### Load packages #####\n",
    "library(tidyverse)\n",
    "library(multcomp)\n",
    "library(ggplot2)\n",
    "# Load CSV\n",
    "graphdata <- read.csv(\"Fig. 3c qPCR.csv\")\n",
    "\n",
    "# Reshape the data from wide to long format\n",
    "graphdata_long <- graphdata %>%\n",
    "  gather(column, value)\n",
    "\n",
    "graphdata_long <- na.omit(graphdata_long)\n",
    "graphdata_long$column <- factor(graphdata_long$column)\n",
    "\n",
    "# Extract unique values of \"column\" variable and preserve order\n",
    "x_order <- unique(graphdata_long$column)\n",
    "\n",
    "# Perform one-way ANOVA\n",
    "res.aov <- aov(value ~ column, data = graphdata_long)\n",
    "print(summary(res.aov))\n",
    "tukey_result <- glht(res.aov, linfct = mcp(column = \"Tukey\"))\n",
    "multcomps <- cld(tukey_result)\n",
    "print(multcomps)\n",
    "print(summary(tukey_result))\n"
   ]
  },
  {
   "cell_type": "code",
   "execution_count": null,
   "id": "276da523-6eb4-4145-a5a3-1d9187dd3bfe",
   "metadata": {},
   "outputs": [],
   "source": []
  }
 ],
 "metadata": {
  "kernelspec": {
   "display_name": "R",
   "language": "R",
   "name": "ir"
  },
  "language_info": {
   "codemirror_mode": "r",
   "file_extension": ".r",
   "mimetype": "text/x-r-source",
   "name": "R",
   "pygments_lexer": "r",
   "version": "4.4.1"
  }
 },
 "nbformat": 4,
 "nbformat_minor": 5
}
