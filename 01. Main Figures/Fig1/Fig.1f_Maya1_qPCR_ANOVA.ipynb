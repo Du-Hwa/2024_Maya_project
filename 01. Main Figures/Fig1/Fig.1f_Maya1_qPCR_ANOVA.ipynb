{
 "cells": [
  {
   "cell_type": "code",
   "execution_count": 4,
   "id": "5db44dc1-5cac-4284-ab6f-b21eda0efddd",
   "metadata": {},
   "outputs": [
    {
     "name": "stdout",
     "output_type": "stream",
     "text": [
      "            Df Sum Sq Mean Sq F value  Pr(>F)    \n",
      "column       3  441.4  147.12   45.83 3.8e-09 ***\n",
      "Residuals   20   64.2    3.21                    \n",
      "---\n",
      "Signif. codes:  0 ‘***’ 0.001 ‘**’ 0.01 ‘*’ 0.05 ‘.’ 0.1 ‘ ’ 1\n",
      "  WT_Maya1   WT_flg22 fls2_Maya1 fls2_flg22 \n",
      "       \"a\"        \"b\"        \"c\"        \"c\" \n",
      "\n",
      "\t Simultaneous Tests for General Linear Hypotheses\n",
      "\n",
      "Multiple Comparisons of Means: Tukey Contrasts\n",
      "\n",
      "\n",
      "Fit: aov(formula = value ~ column, data = graphdata_long)\n",
      "\n",
      "Linear Hypotheses:\n",
      "                             Estimate Std. Error t value Pr(>|t|)    \n",
      "WT_flg22 - WT_Maya1 == 0       8.1640     1.0972   7.441  < 0.001 ***\n",
      "fls2_Maya1 - WT_Maya1 == 0    -3.4306     0.8959  -3.829  0.00515 ** \n",
      "fls2_flg22 - WT_Maya1 == 0    -4.6985     1.0972  -4.282  0.00189 ** \n",
      "fls2_Maya1 - WT_flg22 == 0   -11.5946     1.0972 -10.567  < 0.001 ***\n",
      "fls2_flg22 - WT_flg22 == 0   -12.8625     1.2670 -10.152  < 0.001 ***\n",
      "fls2_flg22 - fls2_Maya1 == 0  -1.2679     1.0972  -1.156  0.65765    \n",
      "---\n",
      "Signif. codes:  0 ‘***’ 0.001 ‘**’ 0.01 ‘*’ 0.05 ‘.’ 0.1 ‘ ’ 1\n",
      "(Adjusted p values reported -- single-step method)\n",
      "\n"
     ]
    }
   ],
   "source": [
    "##### Load packages #####\n",
    "library(tidyverse)\n",
    "library(multcomp)\n",
    "library(ggplot2)\n",
    "# Load CSV\n",
    "graphdata <- read.csv(\"Fig.1F Maya1 qPCR revision3.csv\")\n",
    "\n",
    "# Reshape the data from wide to long format\n",
    "graphdata_long <- graphdata %>%\n",
    "  gather(column, value)\n",
    "\n",
    "graphdata_long <- na.omit(graphdata_long)\n",
    "graphdata_long$column <- factor(graphdata_long$column)\n",
    "\n",
    "# Extract unique values of \"column\" variable and preserve order\n",
    "x_order <- unique(graphdata_long$column)\n",
    "\n",
    "# Perform one-way ANOVA\n",
    "res.aov <- aov(value ~ column, data = graphdata_long)\n",
    "print(summary(res.aov))\n",
    "tukey_result <- glht(res.aov, linfct = mcp(column = \"Tukey\"))\n",
    "multcomps <- cld(tukey_result)\n",
    "print(multcomps)\n",
    "print(summary(tukey_result))\n"
   ]
  },
  {
   "cell_type": "code",
   "execution_count": null,
   "id": "e927cd9d-141d-4e97-8dd5-baf3e55c2530",
   "metadata": {},
   "outputs": [],
   "source": []
  }
 ],
 "metadata": {
  "kernelspec": {
   "display_name": "R",
   "language": "R",
   "name": "ir"
  },
  "language_info": {
   "codemirror_mode": "r",
   "file_extension": ".r",
   "mimetype": "text/x-r-source",
   "name": "R",
   "pygments_lexer": "r",
   "version": "4.4.1"
  }
 },
 "nbformat": 4,
 "nbformat_minor": 5
}
